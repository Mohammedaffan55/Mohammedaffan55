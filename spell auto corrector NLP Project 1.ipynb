{
  "nbformat": 4,
  "nbformat_minor": 0,
  "metadata": {
    "colab": {
      "provenance": [],
      "authorship_tag": "ABX9TyNkkozo4eQiVi3Bx1F2TfTm",
      "include_colab_link": true
    },
    "kernelspec": {
      "name": "python3",
      "display_name": "Python 3"
    },
    "language_info": {
      "name": "python"
    }
  },
  "cells": [
    {
      "cell_type": "markdown",
      "metadata": {
        "id": "view-in-github",
        "colab_type": "text"
      },
      "source": [
        "<a href=\"https://colab.research.google.com/github/Mohammedaffan55/Mohammedaffan55/blob/main/spell%20auto%20corrector%20NLP%20Project%201.ipynb\" target=\"_parent\"><img src=\"https://colab.research.google.com/assets/colab-badge.svg\" alt=\"Open In Colab\"/></a>"
      ]
    },
    {
      "cell_type": "code",
      "execution_count": 1,
      "metadata": {
        "colab": {
          "base_uri": "https://localhost:8080/"
        },
        "id": "20fncXXg8pCP",
        "outputId": "70eb1927-71af-4a5b-9768-c726f94a8a56"
      },
      "outputs": [
        {
          "output_type": "stream",
          "name": "stdout",
          "text": [
            "Requirement already satisfied: nltk in /usr/local/lib/python3.11/dist-packages (3.9.1)\n",
            "Requirement already satisfied: click in /usr/local/lib/python3.11/dist-packages (from nltk) (8.1.8)\n",
            "Requirement already satisfied: joblib in /usr/local/lib/python3.11/dist-packages (from nltk) (1.4.2)\n",
            "Requirement already satisfied: regex>=2021.8.3 in /usr/local/lib/python3.11/dist-packages (from nltk) (2024.11.6)\n",
            "Requirement already satisfied: tqdm in /usr/local/lib/python3.11/dist-packages (from nltk) (4.67.1)\n"
          ]
        }
      ],
      "source": [
        "pip install nltk\n"
      ]
    },
    {
      "cell_type": "code",
      "source": [
        "import nltk\n",
        "from nltk.corpus import words\n",
        "import re\n",
        "from collections import Counter\n",
        "import re\n",
        "\n",
        "# Download words dataset\n",
        "nltk.download('words')\n",
        "\n",
        "# Load a dictionary of correct words\n",
        "word_list = set(words.words())\n",
        "\n",
        "def edits1(word):\n",
        "    \"\"\"Generate all possible edits that are one edit away from the original word.\"\"\"\n",
        "    letters = 'abcdefghijklmnopqrstuvwxyz'\n",
        "    splits = [(word[:i], word[i:]) for i in range(len(word) + 1)]\n",
        "    deletes = [L + R[1:] for L, R in splits if R]\n",
        "    transposes = [L + R[1] + R[0] + R[2:] for L, R in splits if len(R) > 1]\n",
        "    replaces = [L + c + R[1:] for L, R in splits if R for c in letters]\n",
        "    inserts = [L + c + R for L, R in splits for c in letters]\n",
        "    return set(deletes + transposes + replaces + inserts)\n",
        "\n",
        "def known(words):\n",
        "    \"\"\"Return the subset of words that are in our dictionary.\"\"\"\n",
        "    return set(w for w in words if w in word_list)\n",
        "\n",
        "def correct_spelling(word):\n",
        "    \"\"\"Return the most probable spelling correction for the word.\"\"\"\n",
        "    if word in word_list:\n",
        "        return word  # Already correct\n",
        "    candidates = known(edits1(word)) or {word}\n",
        "    return max(candidates, key=lambda w: len(w))  # Choosing based on length as a simple heuristic\n",
        "\n",
        "# Example Usage\n",
        "misspelled_words = [\"fimd\", \"goverment\", \"arguement\", \"wrogn\"]\n",
        "corrected_words = [correct_spelling(word) for word in misspelled_words]\n",
        "\n",
        "print(\"Corrected Words:\", corrected_words)\n",
        "\n"
      ],
      "metadata": {
        "colab": {
          "base_uri": "https://localhost:8080/"
        },
        "id": "Hnb7bhvA9A6P",
        "outputId": "e99fd700-22f9-442a-950e-d285157eed7b"
      },
      "execution_count": 15,
      "outputs": [
        {
          "output_type": "stream",
          "name": "stdout",
          "text": [
            "Corrected Words: ['find', 'government', 'argument', 'wrong']\n"
          ]
        },
        {
          "output_type": "stream",
          "name": "stderr",
          "text": [
            "[nltk_data] Downloading package words to /root/nltk_data...\n",
            "[nltk_data]   Package words is already up-to-date!\n"
          ]
        }
      ]
    },
    {
      "cell_type": "code",
      "source": [],
      "metadata": {
        "id": "kCN-3-ej9k9g"
      },
      "execution_count": null,
      "outputs": []
    }
  ]
}